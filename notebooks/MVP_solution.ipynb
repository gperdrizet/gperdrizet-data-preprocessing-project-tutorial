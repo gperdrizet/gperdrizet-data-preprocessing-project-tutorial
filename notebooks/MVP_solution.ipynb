{
 "cells": [
  {
   "cell_type": "markdown",
   "id": "da9bb528",
   "metadata": {},
   "source": [
    "# Air BnB EDA & data cleaning\n",
    "\n",
    "## Notebook setup"
   ]
  },
  {
   "cell_type": "code",
   "execution_count": 2,
   "id": "00a07c08",
   "metadata": {},
   "outputs": [],
   "source": [
    "import pandas as pd\n",
    "import matplotlib.pyplot as plt"
   ]
  },
  {
   "cell_type": "markdown",
   "id": "c1000444",
   "metadata": {},
   "source": [
    "## Data loading/inspection"
   ]
  },
  {
   "cell_type": "code",
   "execution_count": null,
   "id": "5b0fa432",
   "metadata": {},
   "outputs": [
    {
     "data": {
      "text/html": [
       "<div>\n",
       "<style scoped>\n",
       "    .dataframe tbody tr th:only-of-type {\n",
       "        vertical-align: middle;\n",
       "    }\n",
       "\n",
       "    .dataframe tbody tr th {\n",
       "        vertical-align: top;\n",
       "    }\n",
       "\n",
       "    .dataframe thead th {\n",
       "        text-align: right;\n",
       "    }\n",
       "</style>\n",
       "<table border=\"1\" class=\"dataframe\">\n",
       "  <thead>\n",
       "    <tr style=\"text-align: right;\">\n",
       "      <th></th>\n",
       "      <th>id</th>\n",
       "      <th>name</th>\n",
       "      <th>host_id</th>\n",
       "      <th>host_name</th>\n",
       "      <th>neighbourhood_group</th>\n",
       "      <th>neighbourhood</th>\n",
       "      <th>latitude</th>\n",
       "      <th>longitude</th>\n",
       "      <th>room_type</th>\n",
       "      <th>price</th>\n",
       "      <th>minimum_nights</th>\n",
       "      <th>number_of_reviews</th>\n",
       "      <th>last_review</th>\n",
       "      <th>reviews_per_month</th>\n",
       "      <th>calculated_host_listings_count</th>\n",
       "      <th>availability_365</th>\n",
       "    </tr>\n",
       "  </thead>\n",
       "  <tbody>\n",
       "    <tr>\n",
       "      <th>0</th>\n",
       "      <td>2539</td>\n",
       "      <td>Clean &amp; quiet apt home by the park</td>\n",
       "      <td>2787</td>\n",
       "      <td>John</td>\n",
       "      <td>Brooklyn</td>\n",
       "      <td>Kensington</td>\n",
       "      <td>40.64749</td>\n",
       "      <td>-73.97237</td>\n",
       "      <td>Private room</td>\n",
       "      <td>149</td>\n",
       "      <td>1</td>\n",
       "      <td>9</td>\n",
       "      <td>2018-10-19</td>\n",
       "      <td>0.21</td>\n",
       "      <td>6</td>\n",
       "      <td>365</td>\n",
       "    </tr>\n",
       "    <tr>\n",
       "      <th>1</th>\n",
       "      <td>2595</td>\n",
       "      <td>Skylit Midtown Castle</td>\n",
       "      <td>2845</td>\n",
       "      <td>Jennifer</td>\n",
       "      <td>Manhattan</td>\n",
       "      <td>Midtown</td>\n",
       "      <td>40.75362</td>\n",
       "      <td>-73.98377</td>\n",
       "      <td>Entire home/apt</td>\n",
       "      <td>225</td>\n",
       "      <td>1</td>\n",
       "      <td>45</td>\n",
       "      <td>2019-05-21</td>\n",
       "      <td>0.38</td>\n",
       "      <td>2</td>\n",
       "      <td>355</td>\n",
       "    </tr>\n",
       "    <tr>\n",
       "      <th>2</th>\n",
       "      <td>3647</td>\n",
       "      <td>THE VILLAGE OF HARLEM....NEW YORK !</td>\n",
       "      <td>4632</td>\n",
       "      <td>Elisabeth</td>\n",
       "      <td>Manhattan</td>\n",
       "      <td>Harlem</td>\n",
       "      <td>40.80902</td>\n",
       "      <td>-73.94190</td>\n",
       "      <td>Private room</td>\n",
       "      <td>150</td>\n",
       "      <td>3</td>\n",
       "      <td>0</td>\n",
       "      <td>NaN</td>\n",
       "      <td>NaN</td>\n",
       "      <td>1</td>\n",
       "      <td>365</td>\n",
       "    </tr>\n",
       "    <tr>\n",
       "      <th>3</th>\n",
       "      <td>3831</td>\n",
       "      <td>Cozy Entire Floor of Brownstone</td>\n",
       "      <td>4869</td>\n",
       "      <td>LisaRoxanne</td>\n",
       "      <td>Brooklyn</td>\n",
       "      <td>Clinton Hill</td>\n",
       "      <td>40.68514</td>\n",
       "      <td>-73.95976</td>\n",
       "      <td>Entire home/apt</td>\n",
       "      <td>89</td>\n",
       "      <td>1</td>\n",
       "      <td>270</td>\n",
       "      <td>2019-07-05</td>\n",
       "      <td>4.64</td>\n",
       "      <td>1</td>\n",
       "      <td>194</td>\n",
       "    </tr>\n",
       "    <tr>\n",
       "      <th>4</th>\n",
       "      <td>5022</td>\n",
       "      <td>Entire Apt: Spacious Studio/Loft by central park</td>\n",
       "      <td>7192</td>\n",
       "      <td>Laura</td>\n",
       "      <td>Manhattan</td>\n",
       "      <td>East Harlem</td>\n",
       "      <td>40.79851</td>\n",
       "      <td>-73.94399</td>\n",
       "      <td>Entire home/apt</td>\n",
       "      <td>80</td>\n",
       "      <td>10</td>\n",
       "      <td>9</td>\n",
       "      <td>2018-11-19</td>\n",
       "      <td>0.10</td>\n",
       "      <td>1</td>\n",
       "      <td>0</td>\n",
       "    </tr>\n",
       "  </tbody>\n",
       "</table>\n",
       "</div>"
      ],
      "text/plain": [
       "     id                                              name  host_id  \\\n",
       "0  2539                Clean & quiet apt home by the park     2787   \n",
       "1  2595                             Skylit Midtown Castle     2845   \n",
       "2  3647               THE VILLAGE OF HARLEM....NEW YORK !     4632   \n",
       "3  3831                   Cozy Entire Floor of Brownstone     4869   \n",
       "4  5022  Entire Apt: Spacious Studio/Loft by central park     7192   \n",
       "\n",
       "     host_name neighbourhood_group neighbourhood  latitude  longitude  \\\n",
       "0         John            Brooklyn    Kensington  40.64749  -73.97237   \n",
       "1     Jennifer           Manhattan       Midtown  40.75362  -73.98377   \n",
       "2    Elisabeth           Manhattan        Harlem  40.80902  -73.94190   \n",
       "3  LisaRoxanne            Brooklyn  Clinton Hill  40.68514  -73.95976   \n",
       "4        Laura           Manhattan   East Harlem  40.79851  -73.94399   \n",
       "\n",
       "         room_type  price  minimum_nights  number_of_reviews last_review  \\\n",
       "0     Private room    149               1                  9  2018-10-19   \n",
       "1  Entire home/apt    225               1                 45  2019-05-21   \n",
       "2     Private room    150               3                  0         NaN   \n",
       "3  Entire home/apt     89               1                270  2019-07-05   \n",
       "4  Entire home/apt     80              10                  9  2018-11-19   \n",
       "\n",
       "   reviews_per_month  calculated_host_listings_count  availability_365  \n",
       "0               0.21                               6               365  \n",
       "1               0.38                               2               355  \n",
       "2                NaN                               1               365  \n",
       "3               4.64                               1               194  \n",
       "4               0.10                               1                 0  "
      ]
     },
     "execution_count": 9,
     "metadata": {},
     "output_type": "execute_result"
    }
   ],
   "source": [
    "data_df = pd.read_csv('https://raw.githubusercontent.com/4GeeksAcademy/data-preprocessing-project-tutorial/main/AB_NYC_2019.csv')\n",
    "data_df.head().transpose()"
   ]
  },
  {
   "cell_type": "code",
   "execution_count": 4,
   "id": "7e945879",
   "metadata": {},
   "outputs": [
    {
     "name": "stdout",
     "output_type": "stream",
     "text": [
      "<class 'pandas.core.frame.DataFrame'>\n",
      "RangeIndex: 48895 entries, 0 to 48894\n",
      "Data columns (total 16 columns):\n",
      " #   Column                          Non-Null Count  Dtype  \n",
      "---  ------                          --------------  -----  \n",
      " 0   id                              48895 non-null  int64  \n",
      " 1   name                            48879 non-null  object \n",
      " 2   host_id                         48895 non-null  int64  \n",
      " 3   host_name                       48874 non-null  object \n",
      " 4   neighbourhood_group             48895 non-null  object \n",
      " 5   neighbourhood                   48895 non-null  object \n",
      " 6   latitude                        48895 non-null  float64\n",
      " 7   longitude                       48895 non-null  float64\n",
      " 8   room_type                       48895 non-null  object \n",
      " 9   price                           48895 non-null  int64  \n",
      " 10  minimum_nights                  48895 non-null  int64  \n",
      " 11  number_of_reviews               48895 non-null  int64  \n",
      " 12  last_review                     38843 non-null  object \n",
      " 13  reviews_per_month               38843 non-null  float64\n",
      " 14  calculated_host_listings_count  48895 non-null  int64  \n",
      " 15  availability_365                48895 non-null  int64  \n",
      "dtypes: float64(3), int64(7), object(6)\n",
      "memory usage: 6.0+ MB\n"
     ]
    }
   ],
   "source": [
    "data_df.info()"
   ]
  },
  {
   "cell_type": "markdown",
   "id": "1feb7716",
   "metadata": {},
   "source": [
    "## 1. Distributions\n",
    "\n",
    "Investigate each feature separately. This should include summary statistics and plots, each feature should be handled appropriately based on the data type. You should also include a short description of your findings. This is a good time to think about each feature's distribution type, possibly missing and/or extreme values or anything else strange/unexplained/interesting of note.\n",
    "\n",
    "### 1.1. Numerical features"
   ]
  },
  {
   "cell_type": "code",
   "execution_count": null,
   "id": "6a677abf",
   "metadata": {},
   "outputs": [],
   "source": [
    "# Show descriptive statistics for the numerical features: mean, standard deviation etc.\n",
    "# hint: use Pandas `df.describe()`."
   ]
  },
  {
   "cell_type": "code",
   "execution_count": null,
   "id": "b2861fb6",
   "metadata": {},
   "outputs": [],
   "source": [
    "# Show the distributions of the numerical features - use histograms to get an idea of the data's shape. \n",
    "# Be sure to label plots & axes and use a scale that makes sense for the data."
   ]
  },
  {
   "cell_type": "markdown",
   "id": "1aef4958",
   "metadata": {},
   "source": [
    "### 1.2. Categorical features"
   ]
  },
  {
   "cell_type": "code",
   "execution_count": null,
   "id": "e3cc0f13",
   "metadata": {},
   "outputs": [],
   "source": [
    "# Show number of feature levels and level counts for each categorical feature\n",
    "# hint: use Pandas `df.nunique()` and/or `df.value_counts()`."
   ]
  },
  {
   "cell_type": "code",
   "execution_count": null,
   "id": "844fe42d",
   "metadata": {},
   "outputs": [],
   "source": [
    "# Show the Distribution for each categorical feature - how many observations fall into each category.\n",
    "# Matplotlib or Seaborn bar plots are a good options here."
   ]
  },
  {
   "cell_type": "markdown",
   "id": "ac02d2c7",
   "metadata": {},
   "source": [
    "## 2. Interactions\n",
    "\n",
    "Investigate interactions between features. This will give you information about which features have strong relationships and therefore will be useful for modeling. Include a plot and a quantification of the strength of relationship between each pair of features. Quantification can be done using a correlation coefficient or statistical test. Again, each pair of features should be handled correctly based on the data types.\n",
    "\n",
    "### 2.1. Nominal vs nominal features"
   ]
  },
  {
   "cell_type": "code",
   "execution_count": null,
   "id": "74642106",
   "metadata": {},
   "outputs": [],
   "source": [
    "# Quantify the association between nominal features using the Chi-squared test for contingency tables of count data\n",
    "# hint: see `scipy.stats.chisquare` - https://docs.scipy.org/doc/scipy/reference/generated/scipy.stats.chisquare.html"
   ]
  },
  {
   "cell_type": "code",
   "execution_count": 5,
   "id": "11e57fa1",
   "metadata": {},
   "outputs": [],
   "source": [
    "# Plot the counts in each category with a stratified bar plot. Matplotlib or Seaborn are a good options here."
   ]
  },
  {
   "cell_type": "markdown",
   "id": "96ca6274",
   "metadata": {},
   "source": [
    "### 2.2. Nominal vs numerical features"
   ]
  },
  {
   "cell_type": "code",
   "execution_count": null,
   "id": "f6f696f5",
   "metadata": {},
   "outputs": [],
   "source": [
    "# Use Kruskal-Wallis H-tests for equality of medians with a nominal feature as the independent variable and one \n",
    "# of the numerical features as the dependent variable. hint: see `scipy.stats.kruskal`\n",
    "# (https://docs.scipy.org/doc/scipy/reference/generated/scipy.stats.kruskal.html).\n",
    "# \n",
    "# Question: why am I suggesting the H-test here, rather than ANOVA?"
   ]
  },
  {
   "cell_type": "code",
   "execution_count": null,
   "id": "df59ec21",
   "metadata": {},
   "outputs": [],
   "source": [
    "# Plot stratified boxplots where a nominal feature is the x-axis and numerical feature is y-axis.\n",
    "# Draw one plot for each nominal featureSeaborn is a great option."
   ]
  },
  {
   "cell_type": "markdown",
   "id": "34619be8",
   "metadata": {},
   "source": [
    "### 2.3. Numerical vs numerical features"
   ]
  },
  {
   "cell_type": "code",
   "execution_count": null,
   "id": "471767cc",
   "metadata": {},
   "outputs": [],
   "source": [
    "# Quantify the strength of correlation between pairs of numerical features using Spearman or Kendall\n",
    "# correlation coefficient. SciPy.stats has pairwise implementations for both: \n",
    "# spearmanr https://docs.scipy.org/doc/scipy/reference/generated/scipy.stats.spearmanr.html\n",
    "# kendalltau https://docs.scipy.org/doc/scipy/reference/generated/scipy.stats.kendalltau.html\n",
    "# Pandas `df.corr()`is another option to calculate a full cross-correlation matrix for a dataframe\n",
    "# in one call - but be careful with the defaults, they are not appropriate for this data!."
   ]
  },
  {
   "cell_type": "code",
   "execution_count": null,
   "id": "3f910679",
   "metadata": {},
   "outputs": [],
   "source": [
    "# Plot relationships between numerical features using a scatter plot with Matplotlib. Be sure to label axes \n",
    "# and/or plot and pick appropriate scales. Adding a best fit line can be nice, but is not super\n",
    "# important for this data. Question: why not? Related: why am I suggesting non-parametric rank\n",
    "# based correlation coefficients above?"
   ]
  },
  {
   "cell_type": "markdown",
   "id": "76a30604",
   "metadata": {},
   "source": [
    "## 3. Data cleaning\n",
    "\n",
    "### 3.1. Feature selection\n",
    "\n",
    "Decide what features to include in (or exclude from) you analysis. Base this decision on the type and quality of information contained in each feature. Will it be useful for modeling? Example: the listing id number is not needed. There are no features in this dataset which should be removed based on their correlation (or lack thereof) with other features alone."
   ]
  },
  {
   "cell_type": "code",
   "execution_count": 7,
   "id": "0fadf810",
   "metadata": {},
   "outputs": [],
   "source": [
    "# Select desired features and/or drop unwanted features from your dataframe"
   ]
  },
  {
   "cell_type": "markdown",
   "id": "6e23566f",
   "metadata": {},
   "source": [
    "### 3.2. Missing values\n",
    "\n",
    "The only relevant feature in the dataset that contains obviously missing data is `reviews_per_month`. Think about why this column might have so much missing data and where it came from. Then come up with a strategy to handle the missing data appropriately by either excluding it or filling it in with a meaningful value."
   ]
  },
  {
   "cell_type": "code",
   "execution_count": null,
   "id": "10a4e705",
   "metadata": {},
   "outputs": [],
   "source": [
    "# Implement your strategy for handling missing values in the `reviews_per_month` feature."
   ]
  },
  {
   "cell_type": "markdown",
   "id": "0d142334",
   "metadata": {},
   "source": [
    "## 3.3. Extreme values\n",
    "\n",
    "Remove or replace any extreme values for which you think action is warranted. Note: it is not required for you to take any action based solely on the identification of an observation or observations as 'statistical' outliers. Examples: the `minimum_nights` column contains 999 values for several listings, these could be removed or filled based on the assumption that they are placeholders or errors. However, the `price` column has several very expensive listings, but on inspection they do seem to be real data (one is a 70 foot yacht parked on Manhattan!). These could be excluded or clipped, but a justification should be made in terms of the goal of the analysis."
   ]
  },
  {
   "cell_type": "code",
   "execution_count": null,
   "id": "b82866b1",
   "metadata": {},
   "outputs": [],
   "source": [
    "# Handle extreme values in the dataset. Remove or replace any extreme values for which you think action is warranted. "
   ]
  },
  {
   "cell_type": "markdown",
   "id": "be5cc287",
   "metadata": {},
   "source": [
    "## 4. Feature engineering\n",
    "\n",
    "### 4.1. Feature encoding\n",
    "\n",
    "The dataset contains two nominal features which need to be encoded to numbers: `neighbourhood_group` and `room_type`. Nominal features should be one-hot encoded. See [`sklearn.preprocessing.OneHotEncoder`](https://scikit-learn.org/stable/modules/generated/sklearn.preprocessing.OneHotEncoder.html)."
   ]
  },
  {
   "cell_type": "code",
   "execution_count": 8,
   "id": "5015770e",
   "metadata": {},
   "outputs": [],
   "source": [
    "# Apply one-hot encoding to the nominal features `neighbourhood_group` and `room_type`."
   ]
  },
  {
   "cell_type": "markdown",
   "id": "9b94c9c9",
   "metadata": {},
   "source": [
    "### 4.2. Feature scaling\n",
    "\n",
    "Model performance can often be improved by transforming and/or scaling the features and labels, but this depends on the model type. The features and labels in this dataset are not normally distributed, so a Box-Cox transformation will improve the performance of many common model types (including linear and logistic regression). See [`sklearn.preprocessing.PowerTransformer`](https://scikit-learn.org/stable/modules/generated/sklearn.preprocessing.PowerTransformer.html)."
   ]
  },
  {
   "cell_type": "code",
   "execution_count": null,
   "id": "309c9ac2",
   "metadata": {},
   "outputs": [],
   "source": [
    "# Apply sklearn's power transformer to the numerical features to improve their distribution."
   ]
  },
  {
   "cell_type": "markdown",
   "id": "54d44e9b",
   "metadata": {},
   "source": [
    "### 4.3. Other\n",
    "\n",
    "The sky is the limit. It is common and often very effective to make new features by combining features already present, or bringing in external data. For example: what if you normalized the `price` feature by the mean residential property value in dollars per square foot for the 5 boroughs? You also could probably calculate an estimated listing age from the total reviews and the reviews per month. Be creative and do experiments. I was able to improve linear regression performance on price from under 50% of variance explained to almost 60% by adding polynomial combinations of the features to the data (see detailed solution notebooks).\n"
   ]
  }
 ],
 "metadata": {
  "kernelspec": {
   "display_name": "Python 3",
   "language": "python",
   "name": "python3"
  },
  "language_info": {
   "codemirror_mode": {
    "name": "ipython",
    "version": 3
   },
   "file_extension": ".py",
   "mimetype": "text/x-python",
   "name": "python",
   "nbconvert_exporter": "python",
   "pygments_lexer": "ipython3",
   "version": "3.11.4"
  }
 },
 "nbformat": 4,
 "nbformat_minor": 5
}
