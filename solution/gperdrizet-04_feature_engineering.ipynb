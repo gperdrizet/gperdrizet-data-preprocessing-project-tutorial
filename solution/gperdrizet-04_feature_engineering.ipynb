{
 "cells": [
  {
   "cell_type": "markdown",
   "metadata": {},
   "source": [
    "# AirBnB data feature engineering\n",
    "\n",
    "## Notebook set-up\n",
    "\n",
    "Assume we are preparing this data for a linear regression model."
   ]
  },
  {
   "cell_type": "code",
   "execution_count": 1,
   "metadata": {},
   "outputs": [],
   "source": [
    "from pathlib import Path\n",
    "\n",
    "# PyPI imports\n",
    "import pandas as pd\n",
    "import matplotlib.pyplot as plt\n",
    "import seaborn as sns\n",
    "from sklearn.preprocessing import power_transform, StandardScaler, SplineTransformer, PolynomialFeatures\n",
    "from sklearn.linear_model import LinearRegression\n",
    "from sklearn.tree import DecisionTreeRegressor\n",
    "from sklearn.ensemble import HistGradientBoostingRegressor\n",
    "from sklearn.feature_selection import RFECV\n",
    "\n",
    "# Internal imports\n",
    "import gperdrizet_functions as funcs\n",
    "\n",
    "label='price'\n",
    "\n",
    "features=[\n",
    "    'latitude',\n",
    "    'longitude',\n",
    "    'minimum_nights',\n",
    "    'number_of_reviews',\n",
    "    'reviews_per_month',\n",
    "    'calculated_host_listings_count',\n",
    "    'availability_365',\n",
    "    'neighbourhood_group',\n",
    "    'room_type'\n",
    "]"
   ]
  },
  {
   "cell_type": "markdown",
   "metadata": {},
   "source": [
    "## 1. Data loading"
   ]
  },
  {
   "cell_type": "code",
   "execution_count": 3,
   "metadata": {},
   "outputs": [
    {
     "data": {
      "text/html": [
       "<div>\n",
       "<style scoped>\n",
       "    .dataframe tbody tr th:only-of-type {\n",
       "        vertical-align: middle;\n",
       "    }\n",
       "\n",
       "    .dataframe tbody tr th {\n",
       "        vertical-align: top;\n",
       "    }\n",
       "\n",
       "    .dataframe thead th {\n",
       "        text-align: right;\n",
       "    }\n",
       "</style>\n",
       "<table border=\"1\" class=\"dataframe\">\n",
       "  <thead>\n",
       "    <tr style=\"text-align: right;\">\n",
       "      <th></th>\n",
       "      <th>0</th>\n",
       "      <th>1</th>\n",
       "      <th>2</th>\n",
       "      <th>3</th>\n",
       "      <th>4</th>\n",
       "    </tr>\n",
       "  </thead>\n",
       "  <tbody>\n",
       "    <tr>\n",
       "      <th>price</th>\n",
       "      <td>149.00000</td>\n",
       "      <td>225.00000</td>\n",
       "      <td>150.00000</td>\n",
       "      <td>89.00000</td>\n",
       "      <td>80.00000</td>\n",
       "    </tr>\n",
       "    <tr>\n",
       "      <th>latitude</th>\n",
       "      <td>40.64749</td>\n",
       "      <td>40.75362</td>\n",
       "      <td>40.80902</td>\n",
       "      <td>40.68514</td>\n",
       "      <td>40.79851</td>\n",
       "    </tr>\n",
       "    <tr>\n",
       "      <th>longitude</th>\n",
       "      <td>-73.97237</td>\n",
       "      <td>-73.98377</td>\n",
       "      <td>-73.94190</td>\n",
       "      <td>-73.95976</td>\n",
       "      <td>-73.94399</td>\n",
       "    </tr>\n",
       "    <tr>\n",
       "      <th>minimum_nights</th>\n",
       "      <td>1.00000</td>\n",
       "      <td>1.00000</td>\n",
       "      <td>3.00000</td>\n",
       "      <td>1.00000</td>\n",
       "      <td>10.00000</td>\n",
       "    </tr>\n",
       "    <tr>\n",
       "      <th>number_of_reviews</th>\n",
       "      <td>9.00000</td>\n",
       "      <td>45.00000</td>\n",
       "      <td>0.00000</td>\n",
       "      <td>270.00000</td>\n",
       "      <td>9.00000</td>\n",
       "    </tr>\n",
       "    <tr>\n",
       "      <th>reviews_per_month</th>\n",
       "      <td>0.21000</td>\n",
       "      <td>0.38000</td>\n",
       "      <td>0.28200</td>\n",
       "      <td>4.64000</td>\n",
       "      <td>0.10000</td>\n",
       "    </tr>\n",
       "    <tr>\n",
       "      <th>calculated_host_listings_count</th>\n",
       "      <td>6.00000</td>\n",
       "      <td>2.00000</td>\n",
       "      <td>1.00000</td>\n",
       "      <td>1.00000</td>\n",
       "      <td>1.00000</td>\n",
       "    </tr>\n",
       "    <tr>\n",
       "      <th>availability_365</th>\n",
       "      <td>365.00000</td>\n",
       "      <td>355.00000</td>\n",
       "      <td>365.00000</td>\n",
       "      <td>194.00000</td>\n",
       "      <td>0.00000</td>\n",
       "    </tr>\n",
       "    <tr>\n",
       "      <th>neighbourhood_group</th>\n",
       "      <td>1.00000</td>\n",
       "      <td>2.00000</td>\n",
       "      <td>2.00000</td>\n",
       "      <td>1.00000</td>\n",
       "      <td>2.00000</td>\n",
       "    </tr>\n",
       "    <tr>\n",
       "      <th>room_type</th>\n",
       "      <td>1.00000</td>\n",
       "      <td>0.00000</td>\n",
       "      <td>1.00000</td>\n",
       "      <td>0.00000</td>\n",
       "      <td>0.00000</td>\n",
       "    </tr>\n",
       "  </tbody>\n",
       "</table>\n",
       "</div>"
      ],
      "text/plain": [
       "                                        0          1          2          3  \\\n",
       "price                           149.00000  225.00000  150.00000   89.00000   \n",
       "latitude                         40.64749   40.75362   40.80902   40.68514   \n",
       "longitude                       -73.97237  -73.98377  -73.94190  -73.95976   \n",
       "minimum_nights                    1.00000    1.00000    3.00000    1.00000   \n",
       "number_of_reviews                 9.00000   45.00000    0.00000  270.00000   \n",
       "reviews_per_month                 0.21000    0.38000    0.28200    4.64000   \n",
       "calculated_host_listings_count    6.00000    2.00000    1.00000    1.00000   \n",
       "availability_365                365.00000  355.00000  365.00000  194.00000   \n",
       "neighbourhood_group               1.00000    2.00000    2.00000    1.00000   \n",
       "room_type                         1.00000    0.00000    1.00000    0.00000   \n",
       "\n",
       "                                       4  \n",
       "price                           80.00000  \n",
       "latitude                        40.79851  \n",
       "longitude                      -73.94399  \n",
       "minimum_nights                  10.00000  \n",
       "number_of_reviews                9.00000  \n",
       "reviews_per_month                0.10000  \n",
       "calculated_host_listings_count   1.00000  \n",
       "availability_365                 0.00000  \n",
       "neighbourhood_group              2.00000  \n",
       "room_type                        0.00000  "
      ]
     },
     "execution_count": 3,
     "metadata": {},
     "output_type": "execute_result"
    }
   ],
   "source": [
    "raw_data_df=pd.read_parquet('../data/processed/cleaned_data.parquet')\n",
    "raw_data_df.dropna(inplace=True)\n",
    "datasets={'Raw': raw_data_df.copy()}\n",
    "raw_data_df.head().transpose()"
   ]
  },
  {
   "cell_type": "code",
   "execution_count": 4,
   "metadata": {},
   "outputs": [
    {
     "data": {
      "text/html": [
       "<div>\n",
       "<style scoped>\n",
       "    .dataframe tbody tr th:only-of-type {\n",
       "        vertical-align: middle;\n",
       "    }\n",
       "\n",
       "    .dataframe tbody tr th {\n",
       "        vertical-align: top;\n",
       "    }\n",
       "\n",
       "    .dataframe thead th {\n",
       "        text-align: right;\n",
       "    }\n",
       "</style>\n",
       "<table border=\"1\" class=\"dataframe\">\n",
       "  <thead>\n",
       "    <tr style=\"text-align: right;\">\n",
       "      <th></th>\n",
       "      <th>price</th>\n",
       "      <th>latitude</th>\n",
       "      <th>longitude</th>\n",
       "      <th>minimum_nights</th>\n",
       "      <th>number_of_reviews</th>\n",
       "      <th>reviews_per_month</th>\n",
       "      <th>calculated_host_listings_count</th>\n",
       "      <th>availability_365</th>\n",
       "      <th>neighbourhood_group</th>\n",
       "      <th>room_type</th>\n",
       "    </tr>\n",
       "  </thead>\n",
       "  <tbody>\n",
       "    <tr>\n",
       "      <th>count</th>\n",
       "      <td>48879.000000</td>\n",
       "      <td>48879.000000</td>\n",
       "      <td>48879.000000</td>\n",
       "      <td>48879.000000</td>\n",
       "      <td>48879.000000</td>\n",
       "      <td>48879.000000</td>\n",
       "      <td>48879.000000</td>\n",
       "      <td>48879.000000</td>\n",
       "      <td>48879.000000</td>\n",
       "      <td>48879.000000</td>\n",
       "    </tr>\n",
       "    <tr>\n",
       "      <th>mean</th>\n",
       "      <td>151.642648</td>\n",
       "      <td>40.728951</td>\n",
       "      <td>-73.952173</td>\n",
       "      <td>6.923259</td>\n",
       "      <td>23.273799</td>\n",
       "      <td>1.175985</td>\n",
       "      <td>7.145154</td>\n",
       "      <td>112.762741</td>\n",
       "      <td>1.675484</td>\n",
       "      <td>0.503938</td>\n",
       "    </tr>\n",
       "    <tr>\n",
       "      <th>std</th>\n",
       "      <td>206.700244</td>\n",
       "      <td>0.054533</td>\n",
       "      <td>0.046159</td>\n",
       "      <td>17.567191</td>\n",
       "      <td>44.553153</td>\n",
       "      <td>1.564368</td>\n",
       "      <td>32.957823</td>\n",
       "      <td>131.617456</td>\n",
       "      <td>0.735826</td>\n",
       "      <td>0.545282</td>\n",
       "    </tr>\n",
       "    <tr>\n",
       "      <th>min</th>\n",
       "      <td>10.000000</td>\n",
       "      <td>40.499790</td>\n",
       "      <td>-74.244420</td>\n",
       "      <td>1.000000</td>\n",
       "      <td>0.000000</td>\n",
       "      <td>0.010000</td>\n",
       "      <td>1.000000</td>\n",
       "      <td>0.000000</td>\n",
       "      <td>0.000000</td>\n",
       "      <td>0.000000</td>\n",
       "    </tr>\n",
       "    <tr>\n",
       "      <th>25%</th>\n",
       "      <td>69.000000</td>\n",
       "      <td>40.690095</td>\n",
       "      <td>-73.983075</td>\n",
       "      <td>1.000000</td>\n",
       "      <td>1.000000</td>\n",
       "      <td>0.144000</td>\n",
       "      <td>1.000000</td>\n",
       "      <td>0.000000</td>\n",
       "      <td>1.000000</td>\n",
       "      <td>0.000000</td>\n",
       "    </tr>\n",
       "    <tr>\n",
       "      <th>50%</th>\n",
       "      <td>106.000000</td>\n",
       "      <td>40.723080</td>\n",
       "      <td>-73.955680</td>\n",
       "      <td>3.000000</td>\n",
       "      <td>5.000000</td>\n",
       "      <td>0.536000</td>\n",
       "      <td>1.000000</td>\n",
       "      <td>45.000000</td>\n",
       "      <td>2.000000</td>\n",
       "      <td>0.000000</td>\n",
       "    </tr>\n",
       "    <tr>\n",
       "      <th>75%</th>\n",
       "      <td>175.000000</td>\n",
       "      <td>40.763120</td>\n",
       "      <td>-73.936285</td>\n",
       "      <td>5.000000</td>\n",
       "      <td>24.000000</td>\n",
       "      <td>1.650000</td>\n",
       "      <td>2.000000</td>\n",
       "      <td>227.000000</td>\n",
       "      <td>2.000000</td>\n",
       "      <td>1.000000</td>\n",
       "    </tr>\n",
       "    <tr>\n",
       "      <th>max</th>\n",
       "      <td>5000.000000</td>\n",
       "      <td>40.913060</td>\n",
       "      <td>-73.712990</td>\n",
       "      <td>500.000000</td>\n",
       "      <td>629.000000</td>\n",
       "      <td>58.500000</td>\n",
       "      <td>327.000000</td>\n",
       "      <td>365.000000</td>\n",
       "      <td>4.000000</td>\n",
       "      <td>2.000000</td>\n",
       "    </tr>\n",
       "  </tbody>\n",
       "</table>\n",
       "</div>"
      ],
      "text/plain": [
       "              price      latitude     longitude  minimum_nights  \\\n",
       "count  48879.000000  48879.000000  48879.000000    48879.000000   \n",
       "mean     151.642648     40.728951    -73.952173        6.923259   \n",
       "std      206.700244      0.054533      0.046159       17.567191   \n",
       "min       10.000000     40.499790    -74.244420        1.000000   \n",
       "25%       69.000000     40.690095    -73.983075        1.000000   \n",
       "50%      106.000000     40.723080    -73.955680        3.000000   \n",
       "75%      175.000000     40.763120    -73.936285        5.000000   \n",
       "max     5000.000000     40.913060    -73.712990      500.000000   \n",
       "\n",
       "       number_of_reviews  reviews_per_month  calculated_host_listings_count  \\\n",
       "count       48879.000000       48879.000000                    48879.000000   \n",
       "mean           23.273799           1.175985                        7.145154   \n",
       "std            44.553153           1.564368                       32.957823   \n",
       "min             0.000000           0.010000                        1.000000   \n",
       "25%             1.000000           0.144000                        1.000000   \n",
       "50%             5.000000           0.536000                        1.000000   \n",
       "75%            24.000000           1.650000                        2.000000   \n",
       "max           629.000000          58.500000                      327.000000   \n",
       "\n",
       "       availability_365  neighbourhood_group     room_type  \n",
       "count      48879.000000         48879.000000  48879.000000  \n",
       "mean         112.762741             1.675484      0.503938  \n",
       "std          131.617456             0.735826      0.545282  \n",
       "min            0.000000             0.000000      0.000000  \n",
       "25%            0.000000             1.000000      0.000000  \n",
       "50%           45.000000             2.000000      0.000000  \n",
       "75%          227.000000             2.000000      1.000000  \n",
       "max          365.000000             4.000000      2.000000  "
      ]
     },
     "execution_count": 4,
     "metadata": {},
     "output_type": "execute_result"
    }
   ],
   "source": [
    "raw_data_df.describe()"
   ]
  },
  {
   "cell_type": "code",
   "execution_count": 5,
   "metadata": {},
   "outputs": [
    {
     "name": "stdout",
     "output_type": "stream",
     "text": [
      "<class 'pandas.core.frame.DataFrame'>\n",
      "RangeIndex: 48879 entries, 0 to 48878\n",
      "Data columns (total 10 columns):\n",
      " #   Column                          Non-Null Count  Dtype  \n",
      "---  ------                          --------------  -----  \n",
      " 0   price                           48879 non-null  float64\n",
      " 1   latitude                        48879 non-null  float64\n",
      " 2   longitude                       48879 non-null  float64\n",
      " 3   minimum_nights                  48879 non-null  float64\n",
      " 4   number_of_reviews               48879 non-null  float64\n",
      " 5   reviews_per_month               48879 non-null  float64\n",
      " 6   calculated_host_listings_count  48879 non-null  float64\n",
      " 7   availability_365                48879 non-null  float64\n",
      " 8   neighbourhood_group             48879 non-null  int64  \n",
      " 9   room_type                       48879 non-null  int64  \n",
      "dtypes: float64(8), int64(2)\n",
      "memory usage: 3.7 MB\n"
     ]
    }
   ],
   "source": [
    "raw_data_df.info()"
   ]
  },
  {
   "cell_type": "markdown",
   "metadata": {},
   "source": [
    "## 2. Scaling & transformation methods\n",
    "\n",
    "### 2.1. Box-Cox transformation"
   ]
  },
  {
   "cell_type": "code",
   "execution_count": 6,
   "metadata": {},
   "outputs": [
    {
     "name": "stdout",
     "output_type": "stream",
     "text": [
      "<class 'pandas.core.frame.DataFrame'>\n",
      "RangeIndex: 48879 entries, 0 to 48878\n",
      "Data columns (total 10 columns):\n",
      " #   Column                          Non-Null Count  Dtype  \n",
      "---  ------                          --------------  -----  \n",
      " 0   latitude                        48879 non-null  float64\n",
      " 1   longitude                       48879 non-null  float64\n",
      " 2   minimum_nights                  48879 non-null  float64\n",
      " 3   number_of_reviews               48879 non-null  float64\n",
      " 4   reviews_per_month               48879 non-null  float64\n",
      " 5   calculated_host_listings_count  48879 non-null  float64\n",
      " 6   availability_365                48879 non-null  float64\n",
      " 7   neighbourhood_group             48879 non-null  float64\n",
      " 8   room_type                       48879 non-null  float64\n",
      " 9   price                           48879 non-null  float64\n",
      "dtypes: float64(10)\n",
      "memory usage: 3.7 MB\n"
     ]
    }
   ],
   "source": [
    "skewed_features=[\n",
    "    'price',\n",
    "    'minimum_nights',\n",
    "    'number_of_reviews',\n",
    "    'reviews_per_month',\n",
    "    'calculated_host_listings_count',\n",
    "    'availability_365',\n",
    "    'neighbourhood_group',\n",
    "    'room_type'\n",
    "]\n",
    "\n",
    "transformed_data_df=raw_data_df.copy()\n",
    "transformed_data_df[skewed_features]=power_transform(transformed_data_df[skewed_features]+1, method='box-cox')\n",
    "datasets['Transformed']=transformed_data_df[features + [label]].copy()\n",
    "\n",
    "transformed_data_df[features + [label]].info()"
   ]
  },
  {
   "cell_type": "markdown",
   "metadata": {},
   "source": [
    "### 2.2. Standard scaling"
   ]
  },
  {
   "cell_type": "code",
   "execution_count": 7,
   "metadata": {},
   "outputs": [
    {
     "name": "stdout",
     "output_type": "stream",
     "text": [
      "<class 'pandas.core.frame.DataFrame'>\n",
      "RangeIndex: 48879 entries, 0 to 48878\n",
      "Data columns (total 10 columns):\n",
      " #   Column                          Non-Null Count  Dtype  \n",
      "---  ------                          --------------  -----  \n",
      " 0   latitude                        48879 non-null  float64\n",
      " 1   longitude                       48879 non-null  float64\n",
      " 2   minimum_nights                  48879 non-null  float64\n",
      " 3   number_of_reviews               48879 non-null  float64\n",
      " 4   reviews_per_month               48879 non-null  float64\n",
      " 5   calculated_host_listings_count  48879 non-null  float64\n",
      " 6   availability_365                48879 non-null  float64\n",
      " 7   neighbourhood_group             48879 non-null  float64\n",
      " 8   room_type                       48879 non-null  float64\n",
      " 9   price                           48879 non-null  float64\n",
      "dtypes: float64(10)\n",
      "memory usage: 3.7 MB\n"
     ]
    }
   ],
   "source": [
    "scaled_data_df=raw_data_df.copy()\n",
    "scaler=StandardScaler()\n",
    "scaled_data_df[features + [label]]=scaler.fit_transform(scaled_data_df[features + [label]])\n",
    "datasets['Scaled']=scaled_data_df[features + [label]].copy()\n",
    "\n",
    "scaled_data_df[features + [label]].info()"
   ]
  },
  {
   "cell_type": "markdown",
   "metadata": {},
   "source": [
    "### 2.3. Box-Cox transform + standard scaling"
   ]
  },
  {
   "cell_type": "code",
   "execution_count": 8,
   "metadata": {},
   "outputs": [
    {
     "name": "stdout",
     "output_type": "stream",
     "text": [
      "<class 'pandas.core.frame.DataFrame'>\n",
      "RangeIndex: 48879 entries, 0 to 48878\n",
      "Data columns (total 10 columns):\n",
      " #   Column                          Non-Null Count  Dtype  \n",
      "---  ------                          --------------  -----  \n",
      " 0   latitude                        48879 non-null  float64\n",
      " 1   longitude                       48879 non-null  float64\n",
      " 2   minimum_nights                  48879 non-null  float64\n",
      " 3   number_of_reviews               48879 non-null  float64\n",
      " 4   reviews_per_month               48879 non-null  float64\n",
      " 5   calculated_host_listings_count  48879 non-null  float64\n",
      " 6   availability_365                48879 non-null  float64\n",
      " 7   neighbourhood_group             48879 non-null  float64\n",
      " 8   room_type                       48879 non-null  float64\n",
      " 9   price                           48879 non-null  float64\n",
      "dtypes: float64(10)\n",
      "memory usage: 3.7 MB\n"
     ]
    }
   ],
   "source": [
    "scaled_transformed_data_df=transformed_data_df.copy()\n",
    "scaler=StandardScaler()\n",
    "scaled_transformed_data_df[features + [label]]=scaler.fit_transform(scaled_transformed_data_df[features + [label]])\n",
    "datasets['Transformed+scaled']=scaled_transformed_data_df[features + [label]].copy()\n",
    "\n",
    "scaled_transformed_data_df[features + [label]].info()"
   ]
  },
  {
   "cell_type": "markdown",
   "metadata": {},
   "source": [
    "### 2.4. Results\n",
    "\n",
    "#### 2.4.1. Linear model"
   ]
  },
  {
   "cell_type": "code",
   "execution_count": 9,
   "metadata": {},
   "outputs": [
    {
     "name": "stdout",
     "output_type": "stream",
     "text": [
      "ANOVA p-value: 0.000\n",
      "\n"
     ]
    }
   ],
   "source": [
    "linear_cross_val_results_df, linear_tukey_result=funcs.evaluate_datasets(\n",
    "    LinearRegression(),\n",
    "    datasets\n",
    ")"
   ]
  },
  {
   "cell_type": "markdown",
   "metadata": {},
   "source": [
    "#### 2.4.2. Tree model"
   ]
  },
  {
   "cell_type": "code",
   "execution_count": 10,
   "metadata": {},
   "outputs": [
    {
     "name": "stdout",
     "output_type": "stream",
     "text": [
      "ANOVA p-value: 0.000\n",
      "\n"
     ]
    }
   ],
   "source": [
    "tree_cross_val_results_df, tree_tukey_result=funcs.evaluate_datasets(\n",
    "    HistGradientBoostingRegressor(),\n",
    "    datasets\n",
    ")"
   ]
  },
  {
   "cell_type": "markdown",
   "metadata": {},
   "source": [
    "#### 2.4.2. Model comparison"
   ]
  },
  {
   "cell_type": "code",
   "execution_count": 11,
   "metadata": {},
   "outputs": [
    {
     "name": "stdout",
     "output_type": "stream",
     "text": [
      "Linear model:\n",
      "\n",
      "        Multiple Comparison of Means - Tukey HSD, FWER=0.05        \n",
      "===================================================================\n",
      "   group1         group2       meandiff p-adj  lower  upper  reject\n",
      "-------------------------------------------------------------------\n",
      "        Raw             Scaled     -0.0   1.0 -0.0064 0.0064  False\n",
      "        Raw        Transformed   0.3918   0.0  0.3855 0.3982   True\n",
      "        Raw Transformed+scaled   0.3918   0.0  0.3855 0.3982   True\n",
      "     Scaled        Transformed   0.3918   0.0  0.3855 0.3982   True\n",
      "     Scaled Transformed+scaled   0.3918   0.0  0.3855 0.3982   True\n",
      "Transformed Transformed+scaled      0.0   1.0 -0.0064 0.0064  False\n",
      "-------------------------------------------------------------------\n",
      "\n",
      "Tree model:\n",
      "\n",
      "        Multiple Comparison of Means - Tukey HSD, FWER=0.05         \n",
      "====================================================================\n",
      "   group1         group2       meandiff p-adj   lower  upper  reject\n",
      "--------------------------------------------------------------------\n",
      "        Raw             Scaled  -0.0021 0.9732 -0.0145 0.0104  False\n",
      "        Raw        Transformed   0.3551    0.0  0.3426 0.3675   True\n",
      "        Raw Transformed+scaled   0.3555    0.0   0.343 0.3679   True\n",
      "     Scaled        Transformed   0.3571    0.0  0.3447 0.3696   True\n",
      "     Scaled Transformed+scaled   0.3575    0.0  0.3451   0.37   True\n",
      "Transformed Transformed+scaled   0.0004 0.9998  -0.012 0.0128  False\n",
      "--------------------------------------------------------------------\n"
     ]
    },
    {
     "data": {
      "image/png": "[encoded data removed]",
      "text/plain": [
       "<Figure size 800x400 with 2 Axes>"
      ]
     },
     "metadata": {},
     "output_type": "display_data"
    }
   ],
   "source": [
    "print(f'Linear model:\\n\\n{linear_tukey_result}\\n')\n",
    "print(f'Tree model:\\n\\n{tree_tukey_result}')\n",
    "\n",
    "fig, axs=plt.subplots(1,2, figsize=(8,4), sharey=True)\n",
    "axs=axs.flatten()\n",
    "\n",
    "fig.suptitle('Feature scaling & transformation methods')\n",
    "\n",
    "sns.boxplot(linear_cross_val_results_df, x='Feature set', y='Score', ax=axs[0])\n",
    "axs[0].set_title('Linear model')\n",
    "axs[0].set_xlabel('')\n",
    "axs[0].tick_params(axis='x', labelrotation=45)\n",
    "axs[0].set_ylabel('Explained variance')\n",
    "\n",
    "sns.boxplot(tree_cross_val_results_df, x='Feature set', y='Score', ax=axs[1])\n",
    "axs[1].set_title('Tree model')\n",
    "axs[1].set_xlabel('')\n",
    "axs[1].tick_params(axis='x', labelrotation=45)\n",
    "axs[1].set_ylabel('Explained variance')\n",
    "\n",
    "plt.tight_layout()\n",
    "plt.show()"
   ]
  },
  {
   "cell_type": "markdown",
   "metadata": {},
   "source": [
    "## 3. Synthetic features"
   ]
  },
  {
   "cell_type": "code",
   "execution_count": 12,
   "metadata": {},
   "outputs": [],
   "source": [
    "features_df=datasets['Transformed'].copy()\n",
    "synthetic_features={'Input': features_df}"
   ]
  },
  {
   "cell_type": "markdown",
   "metadata": {},
   "source": [
    "### 3.1. Polynomial features"
   ]
  },
  {
   "cell_type": "code",
   "execution_count": 13,
   "metadata": {},
   "outputs": [],
   "source": [
    "degrees=[2,3,4]\n",
    "\n",
    "for degree in degrees:\n",
    "    poly=PolynomialFeatures(degree=degree, include_bias=False)\n",
    "    poly_features=poly.fit_transform(features_df.drop('price', axis=1))\n",
    "    poly_features_df=pd.DataFrame(poly_features, columns=poly.get_feature_names_out())\n",
    "    synthetic_features[f'Polynomial degree {degree}']=poly_features_df\n",
    "    synthetic_features[f'Polynomial degree {degree}']['price']=features_df['price']"
   ]
  },
  {
   "cell_type": "markdown",
   "metadata": {},
   "source": [
    "### 3.2. Spline features"
   ]
  },
  {
   "cell_type": "code",
   "execution_count": 14,
   "metadata": {},
   "outputs": [],
   "source": [
    "knots=[2,3,4]\n",
    "\n",
    "for degree in degrees:\n",
    "    spline=SplineTransformer(degree=degree)\n",
    "    spline_features=spline.fit_transform(features_df.drop('price', axis=1))\n",
    "    spline_features_df=pd.DataFrame(spline_features, columns=spline.get_feature_names_out())\n",
    "    synthetic_features[f'Spline degree {degree}']=spline_features_df\n",
    "    synthetic_features[f'Spline degree {degree}']['price']=features_df['price']"
   ]
  },
  {
   "cell_type": "markdown",
   "metadata": {},
   "source": [
    "### 3.3. Results\n",
    "\n",
    "#### 3.3.1. Linear model"
   ]
  },
  {
   "cell_type": "code",
   "execution_count": 15,
   "metadata": {},
   "outputs": [
    {
     "name": "stdout",
     "output_type": "stream",
     "text": [
      "ANOVA p-value: 0.000\n",
      "\n"
     ]
    }
   ],
   "source": [
    "linear_cross_val_results_df, linear_tukey_result=funcs.evaluate_datasets(\n",
    "    LinearRegression(),\n",
    "    synthetic_features\n",
    ")"
   ]
  },
  {
   "cell_type": "markdown",
   "metadata": {},
   "source": [
    "#### 3.3.2. Tree model"
   ]
  },
  {
   "cell_type": "code",
   "execution_count": 16,
   "metadata": {},
   "outputs": [
    {
     "name": "stdout",
     "output_type": "stream",
     "text": [
      "ANOVA p-value: 0.012\n",
      "\n"
     ]
    }
   ],
   "source": [
    "tree_cross_val_results_df, tree_tukey_result=funcs.evaluate_datasets(\n",
    "    HistGradientBoostingRegressor(),\n",
    "    synthetic_features\n",
    ")"
   ]
  },
  {
   "cell_type": "markdown",
   "metadata": {},
   "source": [
    "#### 3.3.3. Results comparison"
   ]
  },
  {
   "cell_type": "code",
   "execution_count": 17,
   "metadata": {},
   "outputs": [
    {
     "name": "stdout",
     "output_type": "stream",
     "text": [
      "Linear model:\n",
      "\n",
      "             Multiple Comparison of Means - Tukey HSD, FWER=0.05              \n",
      "==============================================================================\n",
      "       group1              group2       meandiff p-adj   lower   upper  reject\n",
      "------------------------------------------------------------------------------\n",
      "              Input Polynomial degree 2   0.0794    0.0   0.074  0.0848   True\n",
      "              Input Polynomial degree 3   0.0988    0.0  0.0934  0.1042   True\n",
      "              Input Polynomial degree 4   0.1049    0.0  0.0995  0.1103   True\n",
      "              Input     Spline degree 2   0.0752    0.0  0.0698  0.0806   True\n",
      "              Input     Spline degree 3   0.0785    0.0  0.0732  0.0839   True\n",
      "              Input     Spline degree 4   0.0796    0.0  0.0742  0.0849   True\n",
      "Polynomial degree 2 Polynomial degree 3   0.0194    0.0   0.014  0.0248   True\n",
      "Polynomial degree 2 Polynomial degree 4   0.0255    0.0  0.0201  0.0309   True\n",
      "Polynomial degree 2     Spline degree 2  -0.0042 0.2368 -0.0096  0.0012  False\n",
      "Polynomial degree 2     Spline degree 3  -0.0009 0.9991 -0.0062  0.0045  False\n",
      "Polynomial degree 2     Spline degree 4   0.0002    1.0 -0.0052  0.0055  False\n",
      "Polynomial degree 3 Polynomial degree 4   0.0061 0.0151  0.0007  0.0115   True\n",
      "Polynomial degree 3     Spline degree 2  -0.0236    0.0  -0.029 -0.0182   True\n",
      "Polynomial degree 3     Spline degree 3  -0.0203    0.0 -0.0257 -0.0149   True\n",
      "Polynomial degree 3     Spline degree 4  -0.0193    0.0 -0.0246 -0.0139   True\n",
      "Polynomial degree 4     Spline degree 2  -0.0297    0.0 -0.0351 -0.0243   True\n",
      "Polynomial degree 4     Spline degree 3  -0.0264    0.0 -0.0318  -0.021   True\n",
      "Polynomial degree 4     Spline degree 4  -0.0254    0.0 -0.0307   -0.02   True\n",
      "    Spline degree 2     Spline degree 3   0.0033 0.5198  -0.002  0.0087  False\n",
      "    Spline degree 2     Spline degree 4   0.0044 0.1998  -0.001  0.0097  False\n",
      "    Spline degree 3     Spline degree 4    0.001 0.9977 -0.0044  0.0064  False\n",
      "------------------------------------------------------------------------------\n",
      "\n",
      "Tree model:\n",
      "\n",
      "             Multiple Comparison of Means - Tukey HSD, FWER=0.05             \n",
      "=============================================================================\n",
      "       group1              group2       meandiff p-adj   lower  upper  reject\n",
      "-----------------------------------------------------------------------------\n",
      "              Input Polynomial degree 2   0.0028 0.6692 -0.0024  0.008  False\n",
      "              Input Polynomial degree 3    0.004 0.2479 -0.0012 0.0092  False\n",
      "              Input Polynomial degree 4   0.0037 0.3487 -0.0015 0.0089  False\n",
      "              Input     Spline degree 2  -0.0004    1.0 -0.0056 0.0049  False\n",
      "              Input     Spline degree 3  -0.0005    1.0 -0.0057 0.0047  False\n",
      "              Input     Spline degree 4  -0.0004    1.0 -0.0056 0.0048  False\n",
      "Polynomial degree 2 Polynomial degree 3   0.0012 0.9935  -0.004 0.0064  False\n",
      "Polynomial degree 2 Polynomial degree 4   0.0009 0.9989 -0.0043 0.0061  False\n",
      "Polynomial degree 2     Spline degree 2  -0.0032 0.5356 -0.0084  0.002  False\n",
      "Polynomial degree 2     Spline degree 3  -0.0033 0.4927 -0.0085 0.0019  False\n",
      "Polynomial degree 2     Spline degree 4  -0.0032 0.5152 -0.0084  0.002  False\n",
      "Polynomial degree 3 Polynomial degree 4  -0.0003    1.0 -0.0055 0.0049  False\n",
      "Polynomial degree 3     Spline degree 2  -0.0044 0.1638 -0.0096 0.0008  False\n",
      "Polynomial degree 3     Spline degree 3  -0.0045 0.1419 -0.0097 0.0007  False\n",
      "Polynomial degree 3     Spline degree 4  -0.0044 0.1531 -0.0096 0.0008  False\n",
      "Polynomial degree 4     Spline degree 2   -0.004 0.2425 -0.0093 0.0012  False\n",
      "Polynomial degree 4     Spline degree 3  -0.0042 0.2134 -0.0094 0.0011  False\n",
      "Polynomial degree 4     Spline degree 4  -0.0041 0.2284 -0.0093 0.0011  False\n",
      "    Spline degree 2     Spline degree 3  -0.0001    1.0 -0.0053 0.0051  False\n",
      "    Spline degree 2     Spline degree 4  -0.0001    1.0 -0.0053 0.0052  False\n",
      "    Spline degree 3     Spline degree 4   0.0001    1.0 -0.0052 0.0053  False\n",
      "-----------------------------------------------------------------------------\n"
     ]
    },
    {
     "data": {
      "image/png": "[encoded data removed]",
      "text/plain": [
       "<Figure size 800x400 with 2 Axes>"
      ]
     },
     "metadata": {},
     "output_type": "display_data"
    }
   ],
   "source": [
    "print(f'Linear model:\\n\\n{linear_tukey_result}\\n')\n",
    "print(f'Tree model:\\n\\n{tree_tukey_result}')\n",
    "\n",
    "fig, axs=plt.subplots(1,2, figsize=(8,4), sharey=True)\n",
    "axs=axs.flatten()\n",
    "\n",
    "fig.suptitle('Synthetic features')\n",
    "\n",
    "sns.boxplot(linear_cross_val_results_df, x='Feature set', y='Score', ax=axs[0])\n",
    "axs[0].set_title('Linear model')\n",
    "axs[0].set_xlabel('')\n",
    "axs[0].tick_params(axis='x', labelrotation=45)\n",
    "axs[0].set_ylabel('Explained variance')\n",
    "\n",
    "sns.boxplot(tree_cross_val_results_df, x='Feature set', y='Score', ax=axs[1])\n",
    "axs[1].set_title('Tree model')\n",
    "axs[1].set_xlabel('')\n",
    "axs[1].tick_params(axis='x', labelrotation=45)\n",
    "axs[1].set_ylabel('Explained variance')\n",
    "\n",
    "plt.tight_layout()\n",
    "plt.show()"
   ]
  },
  {
   "cell_type": "markdown",
   "metadata": {},
   "source": [
    "## 4. Feature selection\n",
    "\n",
    "### 4.1. Recursive feature elimination"
   ]
  },
  {
   "cell_type": "code",
   "execution_count": 18,
   "metadata": {},
   "outputs": [],
   "source": [
    "linear_selector=RFECV(\n",
    "    LinearRegression(),\n",
    "    step=1,\n",
    "    cv=5,\n",
    "    scoring='explained_variance',\n",
    "    n_jobs=-1\n",
    ")\n",
    "\n",
    "linear_selector=linear_selector.fit(\n",
    "    synthetic_features[f'Polynomial degree 3'].drop('price', axis=1), \n",
    "    synthetic_features[f'Polynomial degree 3']['price']\n",
    ")"
   ]
  },
  {
   "cell_type": "markdown",
   "metadata": {},
   "source": [
    "### 4.2. Results"
   ]
  },
  {
   "cell_type": "code",
   "execution_count": 19,
   "metadata": {},
   "outputs": [
    {
     "ename": "ValueError",
     "evalue": "Per-column arrays must each be 1-dimensional",
     "output_type": "error",
     "traceback": [
      "\u001b[31m---------------------------------------------------------------------------\u001b[39m",
      "\u001b[31mValueError\u001b[39m                                Traceback (most recent call last)",
      "\u001b[36mCell\u001b[39m\u001b[36m \u001b[39m\u001b[32mIn[19]\u001b[39m\u001b[32m, line 1\u001b[39m\n\u001b[32m----> \u001b[39m\u001b[32m1\u001b[39m linear_results = \u001b[43mpd\u001b[49m\u001b[43m.\u001b[49m\u001b[43mDataFrame\u001b[49m\u001b[43m(\u001b[49m\u001b[43mlinear_selector\u001b[49m\u001b[43m.\u001b[49m\u001b[43mcv_results_\u001b[49m\u001b[43m)\u001b[49m\n\u001b[32m      3\u001b[39m fig, axs=plt.subplots(\u001b[32m1\u001b[39m,\u001b[32m1\u001b[39m, figsize=(\u001b[32m5\u001b[39m,\u001b[32m4\u001b[39m), sharey=\u001b[38;5;28;01mTrue\u001b[39;00m)\n\u001b[32m      5\u001b[39m fig.suptitle(\u001b[33m'\u001b[39m\u001b[33mRecursive feature elimination\u001b[39m\u001b[33m'\u001b[39m)\n",
      "\u001b[36mFile \u001b[39m\u001b[32m~/.local/lib/python3.11/site-packages/pandas/core/frame.py:778\u001b[39m, in \u001b[36mDataFrame.__init__\u001b[39m\u001b[34m(self, data, index, columns, dtype, copy)\u001b[39m\n\u001b[32m    772\u001b[39m     mgr = \u001b[38;5;28mself\u001b[39m._init_mgr(\n\u001b[32m    773\u001b[39m         data, axes={\u001b[33m\"\u001b[39m\u001b[33mindex\u001b[39m\u001b[33m\"\u001b[39m: index, \u001b[33m\"\u001b[39m\u001b[33mcolumns\u001b[39m\u001b[33m\"\u001b[39m: columns}, dtype=dtype, copy=copy\n\u001b[32m    774\u001b[39m     )\n\u001b[32m    776\u001b[39m \u001b[38;5;28;01melif\u001b[39;00m \u001b[38;5;28misinstance\u001b[39m(data, \u001b[38;5;28mdict\u001b[39m):\n\u001b[32m    777\u001b[39m     \u001b[38;5;66;03m# GH#38939 de facto copy defaults to False only in non-dict cases\u001b[39;00m\n\u001b[32m--> \u001b[39m\u001b[32m778\u001b[39m     mgr = \u001b[43mdict_to_mgr\u001b[49m\u001b[43m(\u001b[49m\u001b[43mdata\u001b[49m\u001b[43m,\u001b[49m\u001b[43m \u001b[49m\u001b[43mindex\u001b[49m\u001b[43m,\u001b[49m\u001b[43m \u001b[49m\u001b[43mcolumns\u001b[49m\u001b[43m,\u001b[49m\u001b[43m \u001b[49m\u001b[43mdtype\u001b[49m\u001b[43m=\u001b[49m\u001b[43mdtype\u001b[49m\u001b[43m,\u001b[49m\u001b[43m \u001b[49m\u001b[43mcopy\u001b[49m\u001b[43m=\u001b[49m\u001b[43mcopy\u001b[49m\u001b[43m,\u001b[49m\u001b[43m \u001b[49m\u001b[43mtyp\u001b[49m\u001b[43m=\u001b[49m\u001b[43mmanager\u001b[49m\u001b[43m)\u001b[49m\n\u001b[32m    779\u001b[39m \u001b[38;5;28;01melif\u001b[39;00m \u001b[38;5;28misinstance\u001b[39m(data, ma.MaskedArray):\n\u001b[32m    780\u001b[39m     \u001b[38;5;28;01mfrom\u001b[39;00m\u001b[38;5;250m \u001b[39m\u001b[34;01mnumpy\u001b[39;00m\u001b[34;01m.\u001b[39;00m\u001b[34;01mma\u001b[39;00m\u001b[38;5;250m \u001b[39m\u001b[38;5;28;01mimport\u001b[39;00m mrecords\n",
      "\u001b[36mFile \u001b[39m\u001b[32m~/.local/lib/python3.11/site-packages/pandas/core/internals/construction.py:503\u001b[39m, in \u001b[36mdict_to_mgr\u001b[39m\u001b[34m(data, index, columns, dtype, typ, copy)\u001b[39m\n\u001b[32m    499\u001b[39m     \u001b[38;5;28;01melse\u001b[39;00m:\n\u001b[32m    500\u001b[39m         \u001b[38;5;66;03m# dtype check to exclude e.g. range objects, scalars\u001b[39;00m\n\u001b[32m    501\u001b[39m         arrays = [x.copy() \u001b[38;5;28;01mif\u001b[39;00m \u001b[38;5;28mhasattr\u001b[39m(x, \u001b[33m\"\u001b[39m\u001b[33mdtype\u001b[39m\u001b[33m\"\u001b[39m) \u001b[38;5;28;01melse\u001b[39;00m x \u001b[38;5;28;01mfor\u001b[39;00m x \u001b[38;5;129;01min\u001b[39;00m arrays]\n\u001b[32m--> \u001b[39m\u001b[32m503\u001b[39m \u001b[38;5;28;01mreturn\u001b[39;00m \u001b[43marrays_to_mgr\u001b[49m\u001b[43m(\u001b[49m\u001b[43marrays\u001b[49m\u001b[43m,\u001b[49m\u001b[43m \u001b[49m\u001b[43mcolumns\u001b[49m\u001b[43m,\u001b[49m\u001b[43m \u001b[49m\u001b[43mindex\u001b[49m\u001b[43m,\u001b[49m\u001b[43m \u001b[49m\u001b[43mdtype\u001b[49m\u001b[43m=\u001b[49m\u001b[43mdtype\u001b[49m\u001b[43m,\u001b[49m\u001b[43m \u001b[49m\u001b[43mtyp\u001b[49m\u001b[43m=\u001b[49m\u001b[43mtyp\u001b[49m\u001b[43m,\u001b[49m\u001b[43m \u001b[49m\u001b[43mconsolidate\u001b[49m\u001b[43m=\u001b[49m\u001b[43mcopy\u001b[49m\u001b[43m)\u001b[49m\n",
      "\u001b[36mFile \u001b[39m\u001b[32m~/.local/lib/python3.11/site-packages/pandas/core/internals/construction.py:114\u001b[39m, in \u001b[36marrays_to_mgr\u001b[39m\u001b[34m(arrays, columns, index, dtype, verify_integrity, typ, consolidate)\u001b[39m\n\u001b[32m    111\u001b[39m \u001b[38;5;28;01mif\u001b[39;00m verify_integrity:\n\u001b[32m    112\u001b[39m     \u001b[38;5;66;03m# figure out the index, if necessary\u001b[39;00m\n\u001b[32m    113\u001b[39m     \u001b[38;5;28;01mif\u001b[39;00m index \u001b[38;5;129;01mis\u001b[39;00m \u001b[38;5;28;01mNone\u001b[39;00m:\n\u001b[32m--> \u001b[39m\u001b[32m114\u001b[39m         index = \u001b[43m_extract_index\u001b[49m\u001b[43m(\u001b[49m\u001b[43marrays\u001b[49m\u001b[43m)\u001b[49m\n\u001b[32m    115\u001b[39m     \u001b[38;5;28;01melse\u001b[39;00m:\n\u001b[32m    116\u001b[39m         index = ensure_index(index)\n",
      "\u001b[36mFile \u001b[39m\u001b[32m~/.local/lib/python3.11/site-packages/pandas/core/internals/construction.py:664\u001b[39m, in \u001b[36m_extract_index\u001b[39m\u001b[34m(data)\u001b[39m\n\u001b[32m    662\u001b[39m         raw_lengths.append(\u001b[38;5;28mlen\u001b[39m(val))\n\u001b[32m    663\u001b[39m     \u001b[38;5;28;01melif\u001b[39;00m \u001b[38;5;28misinstance\u001b[39m(val, np.ndarray) \u001b[38;5;129;01mand\u001b[39;00m val.ndim > \u001b[32m1\u001b[39m:\n\u001b[32m--> \u001b[39m\u001b[32m664\u001b[39m         \u001b[38;5;28;01mraise\u001b[39;00m \u001b[38;5;167;01mValueError\u001b[39;00m(\u001b[33m\"\u001b[39m\u001b[33mPer-column arrays must each be 1-dimensional\u001b[39m\u001b[33m\"\u001b[39m)\n\u001b[32m    666\u001b[39m \u001b[38;5;28;01mif\u001b[39;00m \u001b[38;5;129;01mnot\u001b[39;00m indexes \u001b[38;5;129;01mand\u001b[39;00m \u001b[38;5;129;01mnot\u001b[39;00m raw_lengths:\n\u001b[32m    667\u001b[39m     \u001b[38;5;28;01mraise\u001b[39;00m \u001b[38;5;167;01mValueError\u001b[39;00m(\u001b[33m\"\u001b[39m\u001b[33mIf using all scalar values, you must pass an index\u001b[39m\u001b[33m\"\u001b[39m)\n",
      "\u001b[31mValueError\u001b[39m: Per-column arrays must each be 1-dimensional"
     ]
    }
   ],
   "source": [
    "linear_results = pd.DataFrame(linear_selector.cv_results_)\n",
    "\n",
    "fig, axs=plt.subplots(1,1, figsize=(5,4), sharey=True)\n",
    "\n",
    "fig.suptitle('Recursive feature elimination')\n",
    "\n",
    "axs.plot(linear_results['n_features'], linear_results['mean_test_score'], color='black')\n",
    "axs.fill_between(\n",
    "    linear_results['n_features'],\n",
    "    linear_results['mean_test_score'] - linear_results['std_test_score'],\n",
    "    linear_results['mean_test_score'] + linear_results['std_test_score'],\n",
    "    color='grey',\n",
    "    alpha=0.3\n",
    ")\n",
    "axs.set_xlabel('Number of features')\n",
    "axs.set_ylabel('Explained variance')\n",
    "\n",
    "fig.show()"
   ]
  },
  {
   "cell_type": "markdown",
   "metadata": {},
   "source": [
    "## 5. Save final data\n",
    "\n",
    "### 5.1. Select features"
   ]
  },
  {
   "cell_type": "code",
   "execution_count": null,
   "metadata": {},
   "outputs": [],
   "source": [
    "data_df=synthetic_features[f'Polynomial degree 3'][linear_selector.get_feature_names_out()].copy()"
   ]
  },
  {
   "cell_type": "markdown",
   "metadata": {},
   "source": [
    "### 5.2. Write to disk"
   ]
  },
  {
   "cell_type": "code",
   "execution_count": null,
   "metadata": {},
   "outputs": [],
   "source": [
    "data_df.to_parquet('../data/processed/processed_data.parquet')"
   ]
  }
 ],
 "metadata": {
  "kernelspec": {
   "display_name": "Python 3",
   "language": "python",
   "name": "python3"
  },
  "language_info": {
   "codemirror_mode": {
    "name": "ipython",
    "version": 3
   },
   "file_extension": ".py",
   "mimetype": "text/x-python",
   "name": "python",
   "nbconvert_exporter": "python",
   "pygments_lexer": "ipython3",
   "version": "3.11.4"
  }
 },
 "nbformat": 4,
 "nbformat_minor": 2
}
